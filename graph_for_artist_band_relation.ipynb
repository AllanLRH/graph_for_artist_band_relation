{
 "cells": [
  {
   "cell_type": "markdown",
   "metadata": {},
   "source": [
    "# Relating band members to the individual artists\n",
    "\n",
    "Demonstrate doing this using a graph, and see how fast it is"
   ]
  },
  {
   "cell_type": "code",
   "execution_count": 1,
   "metadata": {},
   "outputs": [],
   "source": [
    "import pandas as pd\n",
    "import numpy as np\n",
    "import networkx as nx\n",
    "import requests\n",
    "import pprint\n",
    "from pprint import pprint as pp"
   ]
  },
  {
   "cell_type": "markdown",
   "metadata": {},
   "source": [
    "## Get some data\n",
    "\n",
    "We get a list of names which we'll pretend are \"artists\".\n",
    "Names are easy for humans to work with/read/remember."
   ]
  },
  {
   "cell_type": "code",
   "execution_count": 2,
   "metadata": {},
   "outputs": [],
   "source": [
    "r = requests.get('https://raw.githubusercontent.com/dominictarr/random-name/master/first-names.txt')\n",
    "r.raise_for_status()\n",
    "names = r.text.strip().splitlines() "
   ]
  },
  {
   "cell_type": "code",
   "execution_count": 3,
   "metadata": {},
   "outputs": [
    {
     "name": "stdout",
     "output_type": "stream",
     "text": [
      "4945\n",
      "['Aaren', 'Aarika', 'Abagael', 'Abagail', 'Abbe']\n"
     ]
    }
   ],
   "source": [
    "print(len(names))\n",
    "pp(names[:5])"
   ]
  },
  {
   "cell_type": "code",
   "execution_count": 4,
   "metadata": {},
   "outputs": [
    {
     "data": {
      "text/plain": [
       "[['Willette', 'Vi'],\n",
       " ['Jena', 'Noelani', 'Verena'],\n",
       " ['Gabriellia', 'Constancy', 'Tuesday', 'Jorrie', 'Edie', 'Marika', 'Holly'],\n",
       " ['Charlena', 'Aurora', 'Tiffy'],\n",
       " ['Monica', 'Angelita', 'Adan', 'Marketa', 'Bidget', 'Sidoney']]"
      ]
     },
     "execution_count": 4,
     "metadata": {},
     "output_type": "execute_result"
    }
   ],
   "source": [
    "def make_bands(names, n_bands, max_bandsize):\n",
    "    \"\"\"Randomly combine names into lists of names containin between 2 and max_bandsize names\"\"\"\n",
    "    band_size_arr = np.random.randint(2, max_bandsize, (n_bands,))\n",
    "    bands = list()\n",
    "    for bs in band_size_arr:\n",
    "        bands.append(np.random.choice(names, bs).tolist())\n",
    "    return bands\n",
    "\n",
    "\n",
    "# Check that it works\n",
    "make_bands(names, 5, 8)"
   ]
  },
  {
   "cell_type": "code",
   "execution_count": 5,
   "metadata": {},
   "outputs": [],
   "source": [
    "df = pd.Series(make_bands(names, 10_000, 9), name=\"Bands\").to_frame() "
   ]
  },
  {
   "cell_type": "code",
   "execution_count": 6,
   "metadata": {},
   "outputs": [
    {
     "data": {
      "text/html": [
       "<div>\n",
       "<style scoped>\n",
       "    .dataframe tbody tr th:only-of-type {\n",
       "        vertical-align: middle;\n",
       "    }\n",
       "\n",
       "    .dataframe tbody tr th {\n",
       "        vertical-align: top;\n",
       "    }\n",
       "\n",
       "    .dataframe thead th {\n",
       "        text-align: right;\n",
       "    }\n",
       "</style>\n",
       "<table border=\"1\" class=\"dataframe\">\n",
       "  <thead>\n",
       "    <tr style=\"text-align: right;\">\n",
       "      <th></th>\n",
       "      <th>Bands</th>\n",
       "    </tr>\n",
       "  </thead>\n",
       "  <tbody>\n",
       "    <tr>\n",
       "      <th>0</th>\n",
       "      <td>[Rivy, Nerty]</td>\n",
       "    </tr>\n",
       "    <tr>\n",
       "      <th>1</th>\n",
       "      <td>[Tessi, Nanete, Daniella, Almire, Lucilia]</td>\n",
       "    </tr>\n",
       "    <tr>\n",
       "      <th>2</th>\n",
       "      <td>[Arabelle, Alethea]</td>\n",
       "    </tr>\n",
       "    <tr>\n",
       "      <th>3</th>\n",
       "      <td>[Charmine, Vin, Aimil, Aimil, Phyllis, Mira, C...</td>\n",
       "    </tr>\n",
       "    <tr>\n",
       "      <th>4</th>\n",
       "      <td>[Maisey, Chandra, Junie]</td>\n",
       "    </tr>\n",
       "  </tbody>\n",
       "</table>\n",
       "</div>"
      ],
      "text/plain": [
       "                                               Bands\n",
       "0                                      [Rivy, Nerty]\n",
       "1         [Tessi, Nanete, Daniella, Almire, Lucilia]\n",
       "2                                [Arabelle, Alethea]\n",
       "3  [Charmine, Vin, Aimil, Aimil, Phyllis, Mira, C...\n",
       "4                           [Maisey, Chandra, Junie]"
      ]
     },
     "execution_count": 6,
     "metadata": {},
     "output_type": "execute_result"
    }
   ],
   "source": [
    "df.head() "
   ]
  },
  {
   "cell_type": "markdown",
   "metadata": {},
   "source": [
    "This is the base data foundation.\n",
    "We can now chose to ignore the ordering of the names in the band names, or preserve them — by casting the `Bands`-columns to use frozenset, we ignore the ordering, but if we were to use tuple instead, we would perserve them.\n",
    "`forzenset` is an immutable (and thus hashable) version if a `set`, just like `tuple` is an immutable and hashable version of a `list`."
   ]
  },
  {
   "cell_type": "code",
   "execution_count": 7,
   "metadata": {},
   "outputs": [],
   "source": [
    "df['Bands'] = df.Bands.apply(frozenset)  # tuple is an alternative for preserving order of band members"
   ]
  },
  {
   "cell_type": "code",
   "execution_count": 8,
   "metadata": {},
   "outputs": [
    {
     "data": {
      "text/html": [
       "<div>\n",
       "<style scoped>\n",
       "    .dataframe tbody tr th:only-of-type {\n",
       "        vertical-align: middle;\n",
       "    }\n",
       "\n",
       "    .dataframe tbody tr th {\n",
       "        vertical-align: top;\n",
       "    }\n",
       "\n",
       "    .dataframe thead th {\n",
       "        text-align: right;\n",
       "    }\n",
       "</style>\n",
       "<table border=\"1\" class=\"dataframe\">\n",
       "  <thead>\n",
       "    <tr style=\"text-align: right;\">\n",
       "      <th></th>\n",
       "      <th>Bands</th>\n",
       "    </tr>\n",
       "  </thead>\n",
       "  <tbody>\n",
       "    <tr>\n",
       "      <th>0</th>\n",
       "      <td>(Nerty, Rivy)</td>\n",
       "    </tr>\n",
       "    <tr>\n",
       "      <th>1</th>\n",
       "      <td>(Almire, Daniella, Lucilia, Tessi, Nanete)</td>\n",
       "    </tr>\n",
       "    <tr>\n",
       "      <th>2</th>\n",
       "      <td>(Arabelle, Alethea)</td>\n",
       "    </tr>\n",
       "    <tr>\n",
       "      <th>3</th>\n",
       "      <td>(Vin, Cathy, Coretta, Phyllis, Aimil, Mira, Ch...</td>\n",
       "    </tr>\n",
       "    <tr>\n",
       "      <th>4</th>\n",
       "      <td>(Maisey, Junie, Chandra)</td>\n",
       "    </tr>\n",
       "  </tbody>\n",
       "</table>\n",
       "</div>"
      ],
      "text/plain": [
       "                                               Bands\n",
       "0                                      (Nerty, Rivy)\n",
       "1         (Almire, Daniella, Lucilia, Tessi, Nanete)\n",
       "2                                (Arabelle, Alethea)\n",
       "3  (Vin, Cathy, Coretta, Phyllis, Aimil, Mira, Ch...\n",
       "4                           (Maisey, Junie, Chandra)"
      ]
     },
     "execution_count": 8,
     "metadata": {},
     "output_type": "execute_result"
    }
   ],
   "source": [
    "df.head() "
   ]
  },
  {
   "cell_type": "markdown",
   "metadata": {},
   "source": [
    "## Construct the bands and bandmembers graph"
   ]
  },
  {
   "cell_type": "code",
   "execution_count": 9,
   "metadata": {},
   "outputs": [
    {
     "name": "stdout",
     "output_type": "stream",
     "text": [
      "CPU times: user 166 ms, sys: 10.8 ms, total: 176 ms\n",
      "Wall time: 176 ms\n"
     ]
    }
   ],
   "source": [
    "%%time\n",
    "\n",
    "g = nx.Graph()\n",
    "for band in df.Bands:\n",
    "    for artist in band:\n",
    "        g.add_edge(band, artist)"
   ]
  },
  {
   "cell_type": "markdown",
   "metadata": {},
   "source": [
    "Now test it"
   ]
  },
  {
   "cell_type": "code",
   "execution_count": 10,
   "metadata": {},
   "outputs": [
    {
     "data": {
      "text/plain": [
       "9"
      ]
     },
     "execution_count": 10,
     "metadata": {},
     "output_type": "execute_result"
    }
   ],
   "source": [
    "# Number of bands Catriona are participating in\n",
    "g.degree('Catriona')"
   ]
  },
  {
   "cell_type": "code",
   "execution_count": 11,
   "metadata": {},
   "outputs": [
    {
     "name": "stdout",
     "output_type": "stream",
     "text": [
      "frozenset({'Alyson', 'Christy', 'Thomasin', 'Fiann', 'Kitti', 'Caril', 'Catriona'})\n",
      "frozenset({'Naoma', 'Lucy', 'Jo-Ann', 'Danny', 'Clea', 'Catriona', 'Cammie', 'Laetitia'})\n",
      "frozenset({'Johanna', 'Adele', 'Catriona', 'Paloma', 'Rosalie'})\n",
      "frozenset({'Eleonora', 'Livvy', 'Drusie', 'Amelia', 'Clovis', 'Catriona', 'Amandi'})\n",
      "frozenset({'Catriona', 'Marlene', 'Claribel', 'Eydie'})\n",
      "frozenset({'Angil', 'Margarethe', 'Micki', 'Zondra', 'Chelsey', 'Catriona'})\n",
      "frozenset({'Gavrielle', 'Carlita', 'Marianna', 'Gilbertine', 'Brenda', 'Catriona', 'Zorine', 'Jackqueline'})\n",
      "frozenset({'Hedvige', 'Philipa', 'Angele', 'Angelique', 'Kathrine', 'Dyanna', 'Catriona', 'Kylila'})\n",
      "frozenset({'Catriona', 'Austin'})\n"
     ]
    }
   ],
   "source": [
    "# Let's get a list of her bands (the g.neighbours returns an iterator, thus the call to list)\n",
    "\n",
    "print(*list(g.neighbors('Catriona')), sep='\\n')"
   ]
  },
  {
   "cell_type": "code",
   "execution_count": 15,
   "metadata": {},
   "outputs": [
    {
     "data": {
      "text/html": [
       "<div>\n",
       "<style scoped>\n",
       "    .dataframe tbody tr th:only-of-type {\n",
       "        vertical-align: middle;\n",
       "    }\n",
       "\n",
       "    .dataframe tbody tr th {\n",
       "        vertical-align: top;\n",
       "    }\n",
       "\n",
       "    .dataframe thead th {\n",
       "        text-align: right;\n",
       "    }\n",
       "</style>\n",
       "<table border=\"1\" class=\"dataframe\">\n",
       "  <thead>\n",
       "    <tr style=\"text-align: right;\">\n",
       "      <th></th>\n",
       "      <th>source</th>\n",
       "      <th>target</th>\n",
       "    </tr>\n",
       "  </thead>\n",
       "  <tbody>\n",
       "    <tr>\n",
       "      <th>0</th>\n",
       "      <td>(Nerty, Rivy)</td>\n",
       "      <td>Nerty</td>\n",
       "    </tr>\n",
       "    <tr>\n",
       "      <th>1</th>\n",
       "      <td>(Nerty, Rivy)</td>\n",
       "      <td>Rivy</td>\n",
       "    </tr>\n",
       "    <tr>\n",
       "      <th>2</th>\n",
       "      <td>Nerty</td>\n",
       "      <td>(Nerty, Mady, Pierette)</td>\n",
       "    </tr>\n",
       "    <tr>\n",
       "      <th>3</th>\n",
       "      <td>Nerty</td>\n",
       "      <td>(Nerty, Clio, Jillene, Yvette)</td>\n",
       "    </tr>\n",
       "    <tr>\n",
       "      <th>4</th>\n",
       "      <td>Nerty</td>\n",
       "      <td>(Oneida, Nerty, Lynette, Rhody, Carey)</td>\n",
       "    </tr>\n",
       "  </tbody>\n",
       "</table>\n",
       "</div>"
      ],
      "text/plain": [
       "          source                                  target\n",
       "0  (Nerty, Rivy)                                   Nerty\n",
       "1  (Nerty, Rivy)                                    Rivy\n",
       "2          Nerty                 (Nerty, Mady, Pierette)\n",
       "3          Nerty          (Nerty, Clio, Jillene, Yvette)\n",
       "4          Nerty  (Oneida, Nerty, Lynette, Rhody, Carey)"
      ]
     },
     "execution_count": 15,
     "metadata": {},
     "output_type": "execute_result"
    }
   ],
   "source": [
    "de = nx.to_pandas_edgelist(g)\n",
    "de.head() "
   ]
  },
  {
   "cell_type": "code",
   "execution_count": 30,
   "metadata": {},
   "outputs": [
    {
     "data": {
      "text/html": [
       "<div>\n",
       "<style scoped>\n",
       "    .dataframe tbody tr th:only-of-type {\n",
       "        vertical-align: middle;\n",
       "    }\n",
       "\n",
       "    .dataframe tbody tr th {\n",
       "        vertical-align: top;\n",
       "    }\n",
       "\n",
       "    .dataframe thead th {\n",
       "        text-align: right;\n",
       "    }\n",
       "</style>\n",
       "<table border=\"1\" class=\"dataframe\">\n",
       "  <thead>\n",
       "    <tr style=\"text-align: right;\">\n",
       "      <th></th>\n",
       "      <th>0</th>\n",
       "      <th>1</th>\n",
       "      <th>2</th>\n",
       "      <th>3</th>\n",
       "      <th>4</th>\n",
       "      <th>5</th>\n",
       "      <th>6</th>\n",
       "      <th>7</th>\n",
       "      <th>8</th>\n",
       "      <th>9</th>\n",
       "      <th>...</th>\n",
       "      <th>15</th>\n",
       "      <th>16</th>\n",
       "      <th>17</th>\n",
       "      <th>18</th>\n",
       "      <th>19</th>\n",
       "      <th>20</th>\n",
       "      <th>21</th>\n",
       "      <th>22</th>\n",
       "      <th>23</th>\n",
       "      <th>24</th>\n",
       "    </tr>\n",
       "  </thead>\n",
       "  <tbody>\n",
       "    <tr>\n",
       "      <th>Nerty</th>\n",
       "      <td>(Nerty, Rivy)</td>\n",
       "      <td>(Nerty, Mady, Pierette)</td>\n",
       "      <td>(Nerty, Clio, Jillene, Yvette)</td>\n",
       "      <td>(Oneida, Nerty, Lynette, Rhody, Carey)</td>\n",
       "      <td>(Gale, Nerty, Beckie, Frederique, Amanda, Chri...</td>\n",
       "      <td>(Adele, Dyane, Abra, Morgana, Nerty, Fiorenze,...</td>\n",
       "      <td>(Marietta, Marie-Ann, Mitzi, Gwynne, Nerty, Zo...</td>\n",
       "      <td>(Una, Nerty, Milicent, Mahalia, Aimee, Winni, ...</td>\n",
       "      <td>(Blondelle, Marcile, Nerty, Tiffy, Janeen, Gol...</td>\n",
       "      <td>NaN</td>\n",
       "      <td>...</td>\n",
       "      <td>NaN</td>\n",
       "      <td>NaN</td>\n",
       "      <td>NaN</td>\n",
       "      <td>NaN</td>\n",
       "      <td>NaN</td>\n",
       "      <td>NaN</td>\n",
       "      <td>NaN</td>\n",
       "      <td>NaN</td>\n",
       "      <td>NaN</td>\n",
       "      <td>NaN</td>\n",
       "    </tr>\n",
       "    <tr>\n",
       "      <th>Rivy</th>\n",
       "      <td>(Nerty, Rivy)</td>\n",
       "      <td>(Estell, Madelene, Waneta, Laraine, Rivy, Adey...</td>\n",
       "      <td>(Hyacintha, Madlen, Noni, Aeriel, Salaidh, Riv...</td>\n",
       "      <td>(Candida, Zorana, Gabey, Rivy, Adel, Cynthia)</td>\n",
       "      <td>(Emmeline, Mead, Minnnie, Rivy)</td>\n",
       "      <td>(Nessie, Jobye, Rivy)</td>\n",
       "      <td>(Chantal, Jewell, Phylys, Rivy, Donella, Catie)</td>\n",
       "      <td>(Zaria, Winni, Rivy)</td>\n",
       "      <td>(Justinn, Rivy)</td>\n",
       "      <td>(Oralee, Gena, Amalle, Twila, Norean, Rivy, Ra...</td>\n",
       "      <td>...</td>\n",
       "      <td>NaN</td>\n",
       "      <td>NaN</td>\n",
       "      <td>NaN</td>\n",
       "      <td>NaN</td>\n",
       "      <td>NaN</td>\n",
       "      <td>NaN</td>\n",
       "      <td>NaN</td>\n",
       "      <td>NaN</td>\n",
       "      <td>NaN</td>\n",
       "      <td>NaN</td>\n",
       "    </tr>\n",
       "    <tr>\n",
       "      <th>Almire</th>\n",
       "      <td>(Almire, Daniella, Lucilia, Tessi, Nanete)</td>\n",
       "      <td>(Almire, Stevana, Elfrida, Brunhilde, Moyra, C...</td>\n",
       "      <td>(Almire, Theresa, Nedda)</td>\n",
       "      <td>(Almire, Delia, Aviva, Lacy, Shari)</td>\n",
       "      <td>(Almire, Desiree, Ilka, Britt, Pansy, Evonne, ...</td>\n",
       "      <td>(Veda, Almire, Heidi, Kai, Joella, Valery, Agn...</td>\n",
       "      <td>(Almire, Anastassia, Cornela, Joelynn)</td>\n",
       "      <td>(Almire, Kaile, Pooh, Holly, Kati)</td>\n",
       "      <td>(Almire, Laurel, Querida, Codi, Terrie, Emera,...</td>\n",
       "      <td>(Almire, Emylee, Marilee, Sheri, Averyl, Zahar...</td>\n",
       "      <td>...</td>\n",
       "      <td>(Almire, Theadora)</td>\n",
       "      <td>(Almire, Dinnie, Guenevere, Jilly, Opal, Janne...</td>\n",
       "      <td>(Almire, Debra, Loren, Dori, Sissy, Hope, Fide...</td>\n",
       "      <td>NaN</td>\n",
       "      <td>NaN</td>\n",
       "      <td>NaN</td>\n",
       "      <td>NaN</td>\n",
       "      <td>NaN</td>\n",
       "      <td>NaN</td>\n",
       "      <td>NaN</td>\n",
       "    </tr>\n",
       "    <tr>\n",
       "      <th>Daniella</th>\n",
       "      <td>(Almire, Daniella, Lucilia, Tessi, Nanete)</td>\n",
       "      <td>(Daniella, Netta, Laurene, Suzanna, Domeniga, ...</td>\n",
       "      <td>(Daniella, Yolanthe, Berti, Flossie, Phylis, R...</td>\n",
       "      <td>(Daniella, Zondra, Josepha, Delphine, Willette)</td>\n",
       "      <td>(Daniella, Kissie, Luce, Kacie, Rosette, Ladon...</td>\n",
       "      <td>(Daniella, Angela, Erminia, Stacia, Jacintha)</td>\n",
       "      <td>(Daniella, Lynette, Gratiana, Valma, Josey, Do...</td>\n",
       "      <td>(Billie, Daniella, Ophelie, Halley, Codee, Cor...</td>\n",
       "      <td>NaN</td>\n",
       "      <td>NaN</td>\n",
       "      <td>...</td>\n",
       "      <td>NaN</td>\n",
       "      <td>NaN</td>\n",
       "      <td>NaN</td>\n",
       "      <td>NaN</td>\n",
       "      <td>NaN</td>\n",
       "      <td>NaN</td>\n",
       "      <td>NaN</td>\n",
       "      <td>NaN</td>\n",
       "      <td>NaN</td>\n",
       "      <td>NaN</td>\n",
       "    </tr>\n",
       "    <tr>\n",
       "      <th>Lucilia</th>\n",
       "      <td>(Almire, Daniella, Lucilia, Tessi, Nanete)</td>\n",
       "      <td>(Ida, Jere, Lucilia, Amabel)</td>\n",
       "      <td>(Lucilia, Lanie, Aura, Kelsey, Shannen, Marena)</td>\n",
       "      <td>(Lucilia, Una, Lyda, TEirtza, Jaimie, Ramona)</td>\n",
       "      <td>(Whitney, Marj, Lucilia, Francoise, Crystie, V...</td>\n",
       "      <td>(Augustina, Maxy, Eloise, Lucilia, Danielle, R...</td>\n",
       "      <td>(Lucilia, Netta, Charisse, Erena, Erina, Steph...</td>\n",
       "      <td>(Lucilia, Lucy, Rosy, Dee, Cher, Myrilla)</td>\n",
       "      <td>NaN</td>\n",
       "      <td>NaN</td>\n",
       "      <td>...</td>\n",
       "      <td>NaN</td>\n",
       "      <td>NaN</td>\n",
       "      <td>NaN</td>\n",
       "      <td>NaN</td>\n",
       "      <td>NaN</td>\n",
       "      <td>NaN</td>\n",
       "      <td>NaN</td>\n",
       "      <td>NaN</td>\n",
       "      <td>NaN</td>\n",
       "      <td>NaN</td>\n",
       "    </tr>\n",
       "  </tbody>\n",
       "</table>\n",
       "<p>5 rows × 25 columns</p>\n",
       "</div>"
      ],
      "text/plain": [
       "                                                  0   \\\n",
       "Nerty                                  (Nerty, Rivy)   \n",
       "Rivy                                   (Nerty, Rivy)   \n",
       "Almire    (Almire, Daniella, Lucilia, Tessi, Nanete)   \n",
       "Daniella  (Almire, Daniella, Lucilia, Tessi, Nanete)   \n",
       "Lucilia   (Almire, Daniella, Lucilia, Tessi, Nanete)   \n",
       "\n",
       "                                                         1   \\\n",
       "Nerty                               (Nerty, Mady, Pierette)   \n",
       "Rivy      (Estell, Madelene, Waneta, Laraine, Rivy, Adey...   \n",
       "Almire    (Almire, Stevana, Elfrida, Brunhilde, Moyra, C...   \n",
       "Daniella  (Daniella, Netta, Laurene, Suzanna, Domeniga, ...   \n",
       "Lucilia                        (Ida, Jere, Lucilia, Amabel)   \n",
       "\n",
       "                                                         2   \\\n",
       "Nerty                        (Nerty, Clio, Jillene, Yvette)   \n",
       "Rivy      (Hyacintha, Madlen, Noni, Aeriel, Salaidh, Riv...   \n",
       "Almire                             (Almire, Theresa, Nedda)   \n",
       "Daniella  (Daniella, Yolanthe, Berti, Flossie, Phylis, R...   \n",
       "Lucilia     (Lucilia, Lanie, Aura, Kelsey, Shannen, Marena)   \n",
       "\n",
       "                                                       3   \\\n",
       "Nerty              (Oneida, Nerty, Lynette, Rhody, Carey)   \n",
       "Rivy        (Candida, Zorana, Gabey, Rivy, Adel, Cynthia)   \n",
       "Almire                (Almire, Delia, Aviva, Lacy, Shari)   \n",
       "Daniella  (Daniella, Zondra, Josepha, Delphine, Willette)   \n",
       "Lucilia     (Lucilia, Una, Lyda, TEirtza, Jaimie, Ramona)   \n",
       "\n",
       "                                                         4   \\\n",
       "Nerty     (Gale, Nerty, Beckie, Frederique, Amanda, Chri...   \n",
       "Rivy                        (Emmeline, Mead, Minnnie, Rivy)   \n",
       "Almire    (Almire, Desiree, Ilka, Britt, Pansy, Evonne, ...   \n",
       "Daniella  (Daniella, Kissie, Luce, Kacie, Rosette, Ladon...   \n",
       "Lucilia   (Whitney, Marj, Lucilia, Francoise, Crystie, V...   \n",
       "\n",
       "                                                         5   \\\n",
       "Nerty     (Adele, Dyane, Abra, Morgana, Nerty, Fiorenze,...   \n",
       "Rivy                                  (Nessie, Jobye, Rivy)   \n",
       "Almire    (Veda, Almire, Heidi, Kai, Joella, Valery, Agn...   \n",
       "Daniella      (Daniella, Angela, Erminia, Stacia, Jacintha)   \n",
       "Lucilia   (Augustina, Maxy, Eloise, Lucilia, Danielle, R...   \n",
       "\n",
       "                                                         6   \\\n",
       "Nerty     (Marietta, Marie-Ann, Mitzi, Gwynne, Nerty, Zo...   \n",
       "Rivy        (Chantal, Jewell, Phylys, Rivy, Donella, Catie)   \n",
       "Almire               (Almire, Anastassia, Cornela, Joelynn)   \n",
       "Daniella  (Daniella, Lynette, Gratiana, Valma, Josey, Do...   \n",
       "Lucilia   (Lucilia, Netta, Charisse, Erena, Erina, Steph...   \n",
       "\n",
       "                                                         7   \\\n",
       "Nerty     (Una, Nerty, Milicent, Mahalia, Aimee, Winni, ...   \n",
       "Rivy                                   (Zaria, Winni, Rivy)   \n",
       "Almire                   (Almire, Kaile, Pooh, Holly, Kati)   \n",
       "Daniella  (Billie, Daniella, Ophelie, Halley, Codee, Cor...   \n",
       "Lucilia           (Lucilia, Lucy, Rosy, Dee, Cher, Myrilla)   \n",
       "\n",
       "                                                         8   \\\n",
       "Nerty     (Blondelle, Marcile, Nerty, Tiffy, Janeen, Gol...   \n",
       "Rivy                                        (Justinn, Rivy)   \n",
       "Almire    (Almire, Laurel, Querida, Codi, Terrie, Emera,...   \n",
       "Daniella                                                NaN   \n",
       "Lucilia                                                 NaN   \n",
       "\n",
       "                                                         9   ...  \\\n",
       "Nerty                                                   NaN  ...   \n",
       "Rivy      (Oralee, Gena, Amalle, Twila, Norean, Rivy, Ra...  ...   \n",
       "Almire    (Almire, Emylee, Marilee, Sheri, Averyl, Zahar...  ...   \n",
       "Daniella                                                NaN  ...   \n",
       "Lucilia                                                 NaN  ...   \n",
       "\n",
       "                          15  \\\n",
       "Nerty                    NaN   \n",
       "Rivy                     NaN   \n",
       "Almire    (Almire, Theadora)   \n",
       "Daniella                 NaN   \n",
       "Lucilia                  NaN   \n",
       "\n",
       "                                                         16  \\\n",
       "Nerty                                                   NaN   \n",
       "Rivy                                                    NaN   \n",
       "Almire    (Almire, Dinnie, Guenevere, Jilly, Opal, Janne...   \n",
       "Daniella                                                NaN   \n",
       "Lucilia                                                 NaN   \n",
       "\n",
       "                                                         17   18   19   20  \\\n",
       "Nerty                                                   NaN  NaN  NaN  NaN   \n",
       "Rivy                                                    NaN  NaN  NaN  NaN   \n",
       "Almire    (Almire, Debra, Loren, Dori, Sissy, Hope, Fide...  NaN  NaN  NaN   \n",
       "Daniella                                                NaN  NaN  NaN  NaN   \n",
       "Lucilia                                                 NaN  NaN  NaN  NaN   \n",
       "\n",
       "           21   22   23   24  \n",
       "Nerty     NaN  NaN  NaN  NaN  \n",
       "Rivy      NaN  NaN  NaN  NaN  \n",
       "Almire    NaN  NaN  NaN  NaN  \n",
       "Daniella  NaN  NaN  NaN  NaN  \n",
       "Lucilia   NaN  NaN  NaN  NaN  \n",
       "\n",
       "[5 rows x 25 columns]"
      ]
     },
     "execution_count": 30,
     "metadata": {},
     "output_type": "execute_result"
    }
   ],
   "source": [
    "nodes_str = (n for n in g.nodes if isinstance(n, str))\n",
    "dct = {n: pd.Series(g.neighbors(n)) for n in nodes_str}   \n",
    "df_artists = pd.DataFrame(dct).T\n",
    "df_artists.head() "
   ]
  },
  {
   "cell_type": "code",
   "execution_count": null,
   "metadata": {},
   "outputs": [],
   "source": []
  },
  {
   "cell_type": "code",
   "execution_count": null,
   "metadata": {},
   "outputs": [],
   "source": []
  }
 ],
 "metadata": {
  "kernelspec": {
   "display_name": "Python 3",
   "language": "python",
   "name": "python3"
  },
  "language_info": {
   "codemirror_mode": {
    "name": "ipython",
    "version": 3
   },
   "file_extension": ".py",
   "mimetype": "text/x-python",
   "name": "python",
   "nbconvert_exporter": "python",
   "pygments_lexer": "ipython3",
   "version": "3.7.4"
  }
 },
 "nbformat": 4,
 "nbformat_minor": 4
}
