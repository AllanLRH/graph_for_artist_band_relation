{
 "cells": [
  {
   "cell_type": "markdown",
   "metadata": {},
   "source": [
    "# Relating band members to the individual artists\n",
    "\n",
    "Domenstrate doing this using a graph, and see how fast it is"
   ]
  },
  {
   "cell_type": "code",
   "execution_count": 11,
   "metadata": {},
   "outputs": [],
   "source": [
    "import pandas as pd\n",
    "import numpy as np\n",
    "import networkx as nx\n",
    "import requests\n",
    "import pprint\n",
    "from pprint import pprint as pp"
   ]
  },
  {
   "cell_type": "markdown",
   "metadata": {},
   "source": [
    "## Get some data\n",
    "\n",
    "We get a list of names which we'll pretend are \"artists\".\n",
    "Names are easy for humans to work with/read/remember."
   ]
  },
  {
   "cell_type": "code",
   "execution_count": 5,
   "metadata": {},
   "outputs": [],
   "source": [
    "r = requests.get('https://raw.githubusercontent.com/dominictarr/random-name/master/first-names.txt')\n",
    "r.raise_for_status()\n",
    "names = r.text.strip().splitlines() "
   ]
  },
  {
   "cell_type": "code",
   "execution_count": 12,
   "metadata": {},
   "outputs": [
    {
     "name": "stdout",
     "output_type": "stream",
     "text": [
      "4945\n",
      "['Aaren', 'Aarika', 'Abagael', 'Abagail', 'Abbe']\n"
     ]
    }
   ],
   "source": [
    "print(len(names))\n",
    "pp(names[:5])"
   ]
  },
  {
   "cell_type": "code",
   "execution_count": 90,
   "metadata": {},
   "outputs": [
    {
     "data": {
      "text/plain": [
       "[['Joanna', 'Daniella', 'Krysta', 'Ashia', 'Ingunna', 'Norri', 'Inger'],\n",
       " ['Breanne', 'Lynette', 'Aubine', 'Bernice', 'Nancie', 'Lorita', 'Darryl'],\n",
       " ['Lissie', 'Celeste', 'Petronilla', 'Amelita', 'Angie', 'Gilly'],\n",
       " ['Reeva', 'Amaleta', 'Lucy', 'Tracie', 'Allie', 'Adda', 'Stormy'],\n",
       " ['Merissa', 'Pooh']]"
      ]
     },
     "execution_count": 90,
     "metadata": {},
     "output_type": "execute_result"
    }
   ],
   "source": [
    "def make_bands(names, n_bands, max_bandsize):\n",
    "    \"\"\"Randomly combine names into lists of names containin between 2 and max_bandsize names\"\"\"\n",
    "    band_size_arr = np.random.randint(2, max_bandsize, (n_bands,))\n",
    "    bands = list()\n",
    "    for bs in band_size_arr:\n",
    "        bands.append(np.random.choice(names, bs).tolist())\n",
    "    return bands\n",
    "\n",
    "\n",
    "# Check that it works\n",
    "make_bands(names, 5, 8)"
   ]
  },
  {
   "cell_type": "code",
   "execution_count": 91,
   "metadata": {},
   "outputs": [],
   "source": [
    "df = pd.Series(make_bands(names, 10_000, 9), name=\"Bands\").to_frame() "
   ]
  },
  {
   "cell_type": "code",
   "execution_count": 92,
   "metadata": {},
   "outputs": [
    {
     "data": {
      "text/html": [
       "<div>\n",
       "<style scoped>\n",
       "    .dataframe tbody tr th:only-of-type {\n",
       "        vertical-align: middle;\n",
       "    }\n",
       "\n",
       "    .dataframe tbody tr th {\n",
       "        vertical-align: top;\n",
       "    }\n",
       "\n",
       "    .dataframe thead th {\n",
       "        text-align: right;\n",
       "    }\n",
       "</style>\n",
       "<table border=\"1\" class=\"dataframe\">\n",
       "  <thead>\n",
       "    <tr style=\"text-align: right;\">\n",
       "      <th></th>\n",
       "      <th>Bands</th>\n",
       "    </tr>\n",
       "  </thead>\n",
       "  <tbody>\n",
       "    <tr>\n",
       "      <th>0</th>\n",
       "      <td>[Tisha, Sukey, Timmie]</td>\n",
       "    </tr>\n",
       "    <tr>\n",
       "      <th>1</th>\n",
       "      <td>[Dion, Halette, Suzy, Caron, Mindy, Marybelle,...</td>\n",
       "    </tr>\n",
       "    <tr>\n",
       "      <th>2</th>\n",
       "      <td>[Mireille, Ludovika]</td>\n",
       "    </tr>\n",
       "    <tr>\n",
       "      <th>3</th>\n",
       "      <td>[Maisey, Ursa, Tomasina]</td>\n",
       "    </tr>\n",
       "    <tr>\n",
       "      <th>4</th>\n",
       "      <td>[Jacinta, Malory, Albertine]</td>\n",
       "    </tr>\n",
       "  </tbody>\n",
       "</table>\n",
       "</div>"
      ],
      "text/plain": [
       "                                               Bands\n",
       "0                             [Tisha, Sukey, Timmie]\n",
       "1  [Dion, Halette, Suzy, Caron, Mindy, Marybelle,...\n",
       "2                               [Mireille, Ludovika]\n",
       "3                           [Maisey, Ursa, Tomasina]\n",
       "4                       [Jacinta, Malory, Albertine]"
      ]
     },
     "execution_count": 92,
     "metadata": {},
     "output_type": "execute_result"
    }
   ],
   "source": [
    "df.head() "
   ]
  },
  {
   "cell_type": "markdown",
   "metadata": {},
   "source": [
    "This is the base data foundation.\n",
    "We can now chose to ignore the ordering of the names in the band names, or preserve them — by casting the `Bands`-columns to use frozenset, we ignore the ordering, but if we were to use tuple instead, we would perserve them.\n",
    "`forzenset` is an immutable (and this hashable) version if a `set`, just like `tuple` is an immutable and hashable version of a `list`."
   ]
  },
  {
   "cell_type": "code",
   "execution_count": 94,
   "metadata": {},
   "outputs": [],
   "source": [
    "df['Bands'] = df.Bands.apply(frozenset)  # tuple is an alternative for preserving order of band members"
   ]
  },
  {
   "cell_type": "code",
   "execution_count": 95,
   "metadata": {},
   "outputs": [
    {
     "data": {
      "text/html": [
       "<div>\n",
       "<style scoped>\n",
       "    .dataframe tbody tr th:only-of-type {\n",
       "        vertical-align: middle;\n",
       "    }\n",
       "\n",
       "    .dataframe tbody tr th {\n",
       "        vertical-align: top;\n",
       "    }\n",
       "\n",
       "    .dataframe thead th {\n",
       "        text-align: right;\n",
       "    }\n",
       "</style>\n",
       "<table border=\"1\" class=\"dataframe\">\n",
       "  <thead>\n",
       "    <tr style=\"text-align: right;\">\n",
       "      <th></th>\n",
       "      <th>Bands</th>\n",
       "    </tr>\n",
       "  </thead>\n",
       "  <tbody>\n",
       "    <tr>\n",
       "      <th>0</th>\n",
       "      <td>(Sukey, Timmie, Tisha)</td>\n",
       "    </tr>\n",
       "    <tr>\n",
       "      <th>1</th>\n",
       "      <td>(Caron, Dion, Selie, Suzy, Mindy, Marybelle, H...</td>\n",
       "    </tr>\n",
       "    <tr>\n",
       "      <th>2</th>\n",
       "      <td>(Ludovika, Mireille)</td>\n",
       "    </tr>\n",
       "    <tr>\n",
       "      <th>3</th>\n",
       "      <td>(Tomasina, Ursa, Maisey)</td>\n",
       "    </tr>\n",
       "    <tr>\n",
       "      <th>4</th>\n",
       "      <td>(Jacinta, Malory, Albertine)</td>\n",
       "    </tr>\n",
       "  </tbody>\n",
       "</table>\n",
       "</div>"
      ],
      "text/plain": [
       "                                               Bands\n",
       "0                             (Sukey, Timmie, Tisha)\n",
       "1  (Caron, Dion, Selie, Suzy, Mindy, Marybelle, H...\n",
       "2                               (Ludovika, Mireille)\n",
       "3                           (Tomasina, Ursa, Maisey)\n",
       "4                       (Jacinta, Malory, Albertine)"
      ]
     },
     "execution_count": 95,
     "metadata": {},
     "output_type": "execute_result"
    }
   ],
   "source": [
    "df.head() "
   ]
  },
  {
   "cell_type": "markdown",
   "metadata": {},
   "source": [
    "## Construct the bands and bandmembers graph"
   ]
  },
  {
   "cell_type": "code",
   "execution_count": 99,
   "metadata": {},
   "outputs": [
    {
     "name": "stdout",
     "output_type": "stream",
     "text": [
      "CPU times: user 127 ms, sys: 5.59 ms, total: 133 ms\n",
      "Wall time: 133 ms\n"
     ]
    }
   ],
   "source": [
    "%%time\n",
    "\n",
    "g = nx.Graph()\n",
    "for band in df.Bands:\n",
    "    for artist in band:\n",
    "        g.add_edge(band, artist)"
   ]
  },
  {
   "cell_type": "markdown",
   "metadata": {},
   "source": [
    "Now test it"
   ]
  },
  {
   "cell_type": "code",
   "execution_count": 100,
   "metadata": {},
   "outputs": [
    {
     "data": {
      "text/plain": [
       "13"
      ]
     },
     "execution_count": 100,
     "metadata": {},
     "output_type": "execute_result"
    }
   ],
   "source": [
    "# Number of bands Catriona are participating in\n",
    "g.degree('Catriona')"
   ]
  },
  {
   "cell_type": "code",
   "execution_count": 101,
   "metadata": {},
   "outputs": [
    {
     "name": "stdout",
     "output_type": "stream",
     "text": [
      "frozenset({'Danella', 'Chrissie', 'Sibylla', 'Drusi', 'Gerry', 'Catriona'})\n",
      "frozenset({'Vonni', 'Margalo', 'Christal', 'Koralle', 'Donielle', 'Catriona', 'Michele', 'Jerrine'})\n",
      "frozenset({'Phebe', 'Fara', 'Blinny', 'Sascha', 'Catriona'})\n",
      "frozenset({'Trude', 'Marta', 'Roana', 'Livia', 'Zaneta', 'Catriona'})\n",
      "frozenset({'Ruthanne', 'Kimberlee', 'Mariam', 'Vanny', 'Kerrin', 'Catriona'})\n",
      "frozenset({'Cathee', 'Ali', 'Zsazsa', 'Margette', 'Monika', 'Edita', 'Catriona', 'Happy'})\n",
      "frozenset({'Drona', 'Lucita', 'Josselyn', 'Catriona', 'Fernandina', 'Doe', 'Alisa', 'Jessica'})\n",
      "frozenset({'Catriona', 'Ardine'})\n",
      "frozenset({'Theresa', 'Catriona', 'Patience'})\n",
      "frozenset({'Margalo', 'Ciel', 'Windy', 'Phedra', 'Catriona', 'Rozelle', 'Alleen'})\n",
      "frozenset({'Anastassia', 'Christabel', 'Micaela', 'Rubina', 'Catriona', 'Allyn', 'Susannah'})\n",
      "frozenset({'Brena', 'Paloma', 'Nelie', 'Kary', 'Tonya', 'Ginelle', 'Catriona'})\n",
      "frozenset({'Verna', 'Fanchon', 'Gavra', 'Donelle', 'Kathe', 'Catriona', 'Elayne'})\n"
     ]
    }
   ],
   "source": [
    "# Let's get a list of her bands (the g.neighbours returns an iterator, thus the call to list)\n",
    "\n",
    "print(*list(g.neighbors('Catriona')), sep='\\n')"
   ]
  },
  {
   "cell_type": "code",
   "execution_count": null,
   "metadata": {},
   "outputs": [],
   "source": []
  }
 ],
 "metadata": {
  "kernelspec": {
   "display_name": "Python 3",
   "language": "python",
   "name": "python3"
  },
  "language_info": {
   "codemirror_mode": {
    "name": "ipython",
    "version": 3
   },
   "file_extension": ".py",
   "mimetype": "text/x-python",
   "name": "python",
   "nbconvert_exporter": "python",
   "pygments_lexer": "ipython3",
   "version": "3.7.4"
  }
 },
 "nbformat": 4,
 "nbformat_minor": 4
}
